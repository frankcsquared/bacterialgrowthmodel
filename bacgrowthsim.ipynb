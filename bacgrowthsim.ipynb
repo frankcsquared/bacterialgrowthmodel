{
  "nbformat": 4,
  "nbformat_minor": 0,
  "metadata": {
    "colab": {
      "name": "bacgrowthsim.ipynb",
      "provenance": []
    },
    "kernelspec": {
      "name": "python3",
      "display_name": "Python 3"
    }
  },
  "cells": [
    {
      "cell_type": "code",
      "metadata": {
        "id": "cdgAz3rEAC4z",
        "colab_type": "code",
        "colab": {}
      },
      "source": [
        "import sklearn\n",
        "import numpy as np\n",
        "from scipy.integrate import odeint\n",
        "import matplotlib.pyplot as plt"
      ],
      "execution_count": 10,
      "outputs": []
    },
    {
      "cell_type": "code",
      "metadata": {
        "id": "H5xNI4Ih9veN",
        "colab_type": "code",
        "colab": {}
      },
      "source": [
        "def model(B, t, r, k, Bsum, nmr):\n",
        "  dBdt = r/k*B*(k-Bsum) - nmr\n",
        "  return dBdt"
      ],
      "execution_count": 17,
      "outputs": []
    },
    {
      "cell_type": "code",
      "metadata": {
        "id": "OYPjHw89ALW2",
        "colab_type": "code",
        "colab": {}
      },
      "source": [
        "r = 5.0\n",
        "k = 20000.0\n",
        "B0 = 20.0\n",
        "Bsum = 100.0\n",
        "nmr = 2.0\n",
        "t = np.linspace(0, 10)"
      ],
      "execution_count": 15,
      "outputs": []
    },
    {
      "cell_type": "code",
      "metadata": {
        "id": "8jNjvA9EBM-I",
        "colab_type": "code",
        "colab": {
          "base_uri": "https://localhost:8080/",
          "height": 884
        },
        "outputId": "5d8082ca-9b04-4a5d-9bcf-96367745943c"
      },
      "source": [
        "sol = odeint(model, B0, t, args=(r, k, Bsum, nmr))\n",
        "print(sol)"
      ],
      "execution_count": 18,
      "outputs": [
        {
          "output_type": "stream",
          "text": [
            "[[2.00000000e+01]\n",
            " [5.44965444e+01]\n",
            " [1.49714190e+02]\n",
            " [4.12534724e+02]\n",
            " [1.13797414e+03]\n",
            " [3.14033802e+03]\n",
            " [8.66727939e+03]\n",
            " [2.39227887e+04]\n",
            " [6.60311718e+04]\n",
            " [1.82259079e+05]\n",
            " [5.03072313e+05]\n",
            " [1.38858365e+06]\n",
            " [3.83277939e+06]\n",
            " [1.05792687e+07]\n",
            " [2.92009843e+07]\n",
            " [8.06007981e+07]\n",
            " [2.22474989e+08]\n",
            " [6.14077307e+08]\n",
            " [1.69498127e+09]\n",
            " [4.67850132e+09]\n",
            " [1.29136381e+10]\n",
            " [3.56443307e+10]\n",
            " [9.83857768e+10]\n",
            " [2.71565236e+11]\n",
            " [7.49576612e+11]\n",
            " [2.06898757e+12]\n",
            " [5.71083662e+12]\n",
            " [1.57630985e+13]\n",
            " [4.35094350e+13]\n",
            " [1.20095103e+14]\n",
            " [3.31487497e+14]\n",
            " [9.14974533e+14]\n",
            " [2.52552028e+15]\n",
            " [6.97096199e+15]\n",
            " [1.92413070e+16]\n",
            " [5.31100149e+16]\n",
            " [1.46594703e+17]\n",
            " [4.04631912e+17]\n",
            " [1.11686835e+18]\n",
            " [3.08278928e+18]\n",
            " [8.50914049e+18]\n",
            " [2.34870000e+19]\n",
            " [6.48290119e+19]\n",
            " [1.78941576e+20]\n",
            " [4.93916018e+20]\n",
            " [1.36331108e+21]\n",
            " [3.76302254e+21]\n",
            " [1.03867260e+22]\n",
            " [2.86695270e+22]\n",
            " [7.91338657e+22]]\n"
          ],
          "name": "stdout"
        }
      ]
    },
    {
      "cell_type": "code",
      "metadata": {
        "id": "_GlsP2XjBYlw",
        "colab_type": "code",
        "colab": {
          "base_uri": "https://localhost:8080/",
          "height": 307
        },
        "outputId": "698878fe-6dea-459b-97da-809ac0041078"
      },
      "source": [
        "plt.plot(t, sol)\n",
        "plt.legend(loc='best')\n",
        "plt.xlabel('Time')\n",
        "plt.ylabel(\"Growth (bacterial number)\")\n",
        "plt.grid()\n",
        "plt.show()"
      ],
      "execution_count": 26,
      "outputs": [
        {
          "output_type": "stream",
          "text": [
            "No handles with labels found to put in legend.\n"
          ],
          "name": "stderr"
        },
        {
          "output_type": "display_data",
          "data": {
            "image/png": "[encoded data removed]",
            "text/plain": [
              "<Figure size 432x288 with 1 Axes>"
            ]
          },
          "metadata": {
            "tags": [],
            "needs_background": "light"
          }
        }
      ]
    }
  ]
}